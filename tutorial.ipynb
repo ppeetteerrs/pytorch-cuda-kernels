{
 "cells": [
  {
   "cell_type": "code",
   "execution_count": 2,
   "metadata": {},
   "outputs": [
    {
     "name": "stdout",
     "output_type": "stream",
     "text": [
      "Using /home/user/.cache/torch_extensions/py38_cu115 as PyTorch extensions root...\n",
      "Detected CUDA files, patching ldflags\n",
      "Emitting ninja build file /home/user/.cache/torch_extensions/py38_cu115/upfirdn2d_new/build.ninja...\n",
      "Building extension module upfirdn2d_new...\n",
      "Allowing ninja to set a default number of workers... (overridable by setting the environment variable MAX_JOBS=N)\n",
      "[1/3] c++ -MMD -MF upfirdn2d.o.d -DTORCH_EXTENSION_NAME=upfirdn2d_new -DTORCH_API_INCLUDE_EXTENSION_H -DPYBIND11_COMPILER_TYPE=\\\"_gcc\\\" -DPYBIND11_STDLIB=\\\"_libstdcpp\\\" -DPYBIND11_BUILD_ABI=\\\"_cxxabi1013\\\" -isystem /home/user/.conda/envs/user/lib/python3.8/site-packages/torch/include -isystem /home/user/.conda/envs/user/lib/python3.8/site-packages/torch/include/torch/csrc/api/include -isystem /home/user/.conda/envs/user/lib/python3.8/site-packages/torch/include/TH -isystem /home/user/.conda/envs/user/lib/python3.8/site-packages/torch/include/THC -isystem /usr/local/cuda/include -isystem /home/user/.conda/envs/user/include/python3.8 -D_GLIBCXX_USE_CXX11_ABI=1 -fPIC -std=c++14 -c /workspaces/cuda_kernels/upfirdn2d/new/upfirdn2d.cpp -o upfirdn2d.o \n"
     ]
    }
   ],
   "source": [
    "import torch\n",
    "from utils.profiler import profile\n",
    "\n",
    "from upfirdn2d.new.upfirdn2d import upfirdn2d as new\n",
    "from upfirdn2d.original.upfirdn2d import upfirdn2d as original\n"
   ]
  },
  {
   "cell_type": "code",
   "execution_count": null,
   "metadata": {},
   "outputs": [],
   "source": [
    "# Create random FP image\n",
    "random_img = torch.rand((8, 1, 1024, 1024), dtype=torch.float32, device=\"cuda\")\n",
    "\n",
    "# Create kernel\n",
    "k = torch.tensor([1, 3, 3, 1], dtype=torch.float32, device=\"cuda\")\n",
    "k = k[None, :] * k[:, None]\n",
    "k /= k.sum()\n",
    "\n",
    "\n",
    "# Compare output from original and modified kernels\n",
    "def fn(i: int) -> None:\n",
    "    original_result = original(random_img, k, up=2, down=1, pad=(0, 0))\n",
    "    new_result = new(random_img, k, up=2, down=1, pad=(0, 0))\n",
    "    assert new_result.allclose(original_result), f\"Assertion failed at iteration {i}\"\n",
    "\n",
    "\n",
    "profile(fn, [\"upfirdn2d\"], iters=5000)"
   ]
  }
 ],
 "metadata": {
  "interpreter": {
   "hash": "858ce48b5a72ba8b33b9012227ea8037c0c6bdabb5ea7827c4c9a223caf0062e"
  },
  "kernelspec": {
   "display_name": "Python 3.8.12 64-bit ('user': conda)",
   "language": "python",
   "name": "python3"
  },
  "language_info": {
   "codemirror_mode": {
    "name": "ipython",
    "version": 3
   },
   "file_extension": ".py",
   "mimetype": "text/x-python",
   "name": "python",
   "nbconvert_exporter": "python",
   "pygments_lexer": "ipython3",
   "version": "3.8.12"
  },
  "orig_nbformat": 4
 },
 "nbformat": 4,
 "nbformat_minor": 2
}
