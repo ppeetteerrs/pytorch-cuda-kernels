{
 "cells": [
  {
   "cell_type": "code",
   "execution_count": 2,
   "metadata": {},
   "outputs": [
    {
     "name": "stdout",
     "output_type": "stream",
     "text": [
      "Using /root/.cache/torch_extensions/py38_cu115 as PyTorch extensions root...\n",
      "Detected CUDA files, patching ldflags\n",
      "Emitting ninja build file /root/.cache/torch_extensions/py38_cu115/upfirdn2d_new/build.ninja...\n",
      "Building extension module upfirdn2d_new...\n",
      "Allowing ninja to set a default number of workers... (overridable by setting the environment variable MAX_JOBS=N)\n",
      "ninja: no work to do.\n",
      "Loading extension module upfirdn2d_new...\n",
      "Using /root/.cache/torch_extensions/py38_cu115 as PyTorch extensions root...\n",
      "Detected CUDA files, patching ldflags\n",
      "Emitting ninja build file /root/.cache/torch_extensions/py38_cu115/upfirdn2d_original/build.ninja...\n",
      "Building extension module upfirdn2d_original...\n",
      "Allowing ninja to set a default number of workers... (overridable by setting the environment variable MAX_JOBS=N)\n",
      "ninja: no work to do.\n",
      "Loading extension module upfirdn2d_original...\n",
      "-------------------------------------------------------  ------------  ------------  ------------  ------------  ------------  ------------  ------------  ------------  ------------  ------------  \n",
      "                                                   Name    Self CPU %      Self CPU   CPU total %     CPU total  CPU time avg     Self CUDA   Self CUDA %    CUDA total  CUDA time avg    # of Calls  \n",
      "-------------------------------------------------------  ------------  ------------  ------------  ------------  ------------  ------------  ------------  ------------  ------------  ------------  \n",
      "void upfirdn2d_kernel<float, 1, 1, 2, 2, 4, 4, 8, 32...         0.00%       0.000us         0.00%       0.000us       0.000us     465.913ms        23.09%     465.913ms     465.913us          1000  \n",
      "void upfirdn2d_kernel<float>(float*, float const*, f...         0.00%       0.000us         0.00%       0.000us       0.000us     350.233ms        17.35%     350.233ms     350.233us          1000  \n",
      "void at::native::vectorized_elementwise_kernel<4, at...         0.00%       0.000us         0.00%       0.000us       0.000us     318.675ms        15.79%     318.675ms     106.225us          3000  \n",
      "void at::native::vectorized_elementwise_kernel<4, at...         0.00%       0.000us         0.00%       0.000us       0.000us     185.730ms         9.20%     185.730ms      92.865us          2000  \n",
      "void at::native::vectorized_elementwise_kernel<4, at...         0.00%       0.000us         0.00%       0.000us       0.000us     156.617ms         7.76%     156.617ms     156.617us          1000  \n",
      "void at::native::vectorized_elementwise_kernel<4, at...         0.00%       0.000us         0.00%       0.000us       0.000us     120.598ms         5.98%     120.598ms     120.598us          1000  \n",
      "void at::native::vectorized_elementwise_kernel<4, at...         0.00%       0.000us         0.00%       0.000us       0.000us     106.281ms         5.27%     106.281ms     106.281us          1000  \n",
      "void at::native::vectorized_elementwise_kernel<4, at...         0.00%       0.000us         0.00%       0.000us       0.000us     101.514ms         5.03%     101.514ms     101.514us          1000  \n",
      "void at::native::vectorized_elementwise_kernel<4, at...         0.00%       0.000us         0.00%       0.000us       0.000us      68.679ms         3.40%      68.679ms      68.679us          1000  \n",
      "void at::native::vectorized_elementwise_kernel<4, at...         0.00%       0.000us         0.00%       0.000us       0.000us      41.403ms         2.05%      41.403ms      41.403us          1000  \n",
      "-------------------------------------------------------  ------------  ------------  ------------  ------------  ------------  ------------  ------------  ------------  ------------  ------------  \n",
      "Self CPU time total: 1.677s\n",
      "Self CUDA time total: 2.018s\n",
      "\n"
     ]
    }
   ],
   "source": [
    "import torch\n",
    "from torch.profiler.profiler import ProfilerActivity, profile\n",
    "\n",
    "from naiive.upfirdn2d import upfirdn2d_naiive\n",
    "from original.upfirdn2d import upfirdn2d_original\n",
    "\n",
    "random_img = torch.rand((10, 1, 1024, 1024), dtype=torch.float32).to(\"cuda\")\n",
    "# print(random_img)\n",
    "\n",
    "k = torch.tensor([1, 2, 3, 4], dtype=torch.float32).to(\"cuda\")\n",
    "k = k[None, :] * k[:, None]\n",
    "# k /= k.sum()\n",
    "# print(k)\n",
    "\n",
    "with profile(activities=[ProfilerActivity.CUDA], record_shapes=False) as prof:\n",
    "    for i in range(1000):\n",
    "        i1 = upfirdn2d_naiive(random_img, k, up=1, down=2, pad=(0, 0))\n",
    "        i2 = upfirdn2d_original(random_img, k, up=1, down=2, pad=(0, 0))\n",
    "        assert i1.allclose(i2), i\n",
    "\n",
    "print(prof.key_averages().table(sort_by=\"cuda_time_total\", row_limit=10))\n",
    "# i1 = upfirdn2d_naiive(random_img, k, up=2, down=1, pad=(0, 0)).to(\"cpu\")\n",
    "# i2 = upfirdn2d_original(random_img.to(\"cpu\"), k.to(\"cpu\"), up=2, down=1, pad=(0, 0))\n",
    "# print(i1)\n",
    "# print(i2)\n",
    "\n",
    "\n",
    "# print(i1.allclose(i2))\n"
   ]
  },
  {
   "cell_type": "code",
   "execution_count": null,
   "metadata": {},
   "outputs": [],
   "source": []
  }
 ],
 "metadata": {
  "interpreter": {
   "hash": "d4d1e4263499bec80672ea0156c357c1ee493ec2b1c70f0acce89fc37c4a6abe"
  },
  "kernelspec": {
   "display_name": "Python 3.8.12 64-bit ('base': conda)",
   "language": "python",
   "name": "python3"
  },
  "language_info": {
   "codemirror_mode": {
    "name": "ipython",
    "version": 3
   },
   "file_extension": ".py",
   "mimetype": "text/x-python",
   "name": "python",
   "nbconvert_exporter": "python",
   "pygments_lexer": "ipython3",
   "version": "3.8.12"
  },
  "orig_nbformat": 4
 },
 "nbformat": 4,
 "nbformat_minor": 2
}
