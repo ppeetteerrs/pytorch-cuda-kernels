{
 "cells": [
  {
   "cell_type": "code",
   "execution_count": 1,
   "metadata": {},
   "outputs": [
    {
     "name": "stdout",
     "output_type": "stream",
     "text": [
      "Using /root/.cache/torch_extensions/py38_cu115 as PyTorch extensions root...\n",
      "Detected CUDA files, patching ldflags\n",
      "Emitting ninja build file /root/.cache/torch_extensions/py38_cu115/upfirdn2d_new/build.ninja...\n",
      "Building extension module upfirdn2d_new...\n",
      "Allowing ninja to set a default number of workers... (overridable by setting the environment variable MAX_JOBS=N)\n",
      "ninja: no work to do.\n",
      "Loading extension module upfirdn2d_new...\n",
      "Using /root/.cache/torch_extensions/py38_cu115 as PyTorch extensions root...\n"
     ]
    }
   ],
   "source": [
    "import torch\n",
    "from torch.profiler.profiler import ProfilerActivity, profile\n",
    "\n",
    "from naiive.upfirdn2d import upfirdn2d_naiive\n",
    "from original.upfirdn2d import upfirdn2d_original\n",
    "\n",
    "random_img = torch.rand((10, 1, 1024, 1024), dtype=torch.float32).to(\"cuda\")\n",
    "\n",
    "k = torch.tensor([1, 2, 3, 4], dtype=torch.float32).to(\"cuda\")\n",
    "k = k[None, :] * k[:, None]\n",
    "\n",
    "i1 = upfirdn2d_naiive(random_img, k, up=1, down=2, pad=(0, 0))\n",
    "i2 = upfirdn2d_original(random_img, k, up=1, down=2, pad=(0, 0))\n",
    "\n",
    "print(i1.allclose(i2))\n"
   ]
  },
  {
   "cell_type": "code",
   "execution_count": null,
   "metadata": {},
   "outputs": [],
   "source": []
  }
 ],
 "metadata": {
  "language_info": {
   "name": "python"
  },
  "orig_nbformat": 4
 },
 "nbformat": 4,
 "nbformat_minor": 2
}
